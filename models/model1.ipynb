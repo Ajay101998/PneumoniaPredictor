{
 "cells": [
  {
   "cell_type": "markdown",
   "metadata": {
    "colab_type": "text",
    "id": "3DR-eO17geWu"
   },
   "source": [
    "# Convolutional Neural Network"
   ]
  },
  {
   "cell_type": "markdown",
   "metadata": {
    "colab_type": "text",
    "id": "EMefrVPCg-60"
   },
   "source": [
    "### Importing the libraries"
   ]
  },
  {
   "cell_type": "code",
   "execution_count": 1,
   "metadata": {
    "colab": {},
    "colab_type": "code",
    "id": "sCV30xyVhFbE"
   },
   "outputs": [],
   "source": [
    "import tensorflow as tf\n",
    "from tensorflow.keras.preprocessing.image import ImageDataGenerator"
   ]
  },
  {
   "cell_type": "code",
   "execution_count": 2,
   "metadata": {
    "colab": {},
    "colab_type": "code",
    "id": "FIleuCAjoFD8"
   },
   "outputs": [
    {
     "data": {
      "text/plain": [
       "'2.4.1'"
      ]
     },
     "execution_count": 2,
     "metadata": {},
     "output_type": "execute_result"
    }
   ],
   "source": [
    "tf.__version__"
   ]
  },
  {
   "cell_type": "markdown",
   "metadata": {
    "colab_type": "text",
    "id": "oxQxCBWyoGPE"
   },
   "source": [
    "## Part 1 - Data Preprocessing"
   ]
  },
  {
   "cell_type": "code",
   "execution_count": 3,
   "metadata": {
    "colab": {},
    "colab_type": "code",
    "id": "0koUcJMJpEBD"
   },
   "outputs": [
    {
     "name": "stdout",
     "output_type": "stream",
     "text": [
      "Found 5216 images belonging to 2 classes.\n",
      "Found 624 images belonging to 2 classes.\n",
      "Found 16 images belonging to 2 classes.\n"
     ]
    }
   ],
   "source": [
    "train_datagen = ImageDataGenerator(rescale = 1./255,\n",
    "                                   shear_range = 0.2,\n",
    "                                   zoom_range = 0.2,\n",
    "                                   horizontal_flip = True)\n",
    "\n",
    "test_datagen = ImageDataGenerator(rescale = 1./255)\n",
    "val_datagen = ImageDataGenerator(rescale = 1./255)\n",
    "\n",
    "training_set = train_datagen.flow_from_directory('dataset/train',\n",
    "                                                 target_size = (64, 64),\n",
    "                                                 batch_size = 32,\n",
    "                                                 class_mode = 'binary')\n",
    "\n",
    "test_set = test_datagen.flow_from_directory('dataset/test',\n",
    "                                            target_size = (64, 64),\n",
    "                                            batch_size = 32,\n",
    "                                            class_mode = 'binary')\n",
    "\n",
    "val_set = val_datagen.flow_from_directory('dataset/val',\n",
    "                                                 target_size = (64, 64),\n",
    "                                                 batch_size = 32,\n",
    "                                                 class_mode = 'binary')"
   ]
  },
  {
   "cell_type": "markdown",
   "metadata": {
    "colab_type": "text",
    "id": "af8O4l90gk7B"
   },
   "source": [
    "## Part 2 - Building the CNN"
   ]
  },
  {
   "cell_type": "markdown",
   "metadata": {
    "colab_type": "text",
    "id": "ces1gXY2lmoX"
   },
   "source": [
    "### Initialising the CNN"
   ]
  },
  {
   "cell_type": "code",
   "execution_count": 4,
   "metadata": {
    "colab": {},
    "colab_type": "code",
    "id": "SAUt4UMPlhLS"
   },
   "outputs": [],
   "source": [
    "model1 = tf.keras.models.Sequential()"
   ]
  },
  {
   "cell_type": "markdown",
   "metadata": {
    "colab_type": "text",
    "id": "u5YJj_XMl5LF"
   },
   "source": [
    "### Step 1 - Convolution"
   ]
  },
  {
   "cell_type": "code",
   "execution_count": 5,
   "metadata": {
    "colab": {},
    "colab_type": "code",
    "id": "XPzPrMckl-hV"
   },
   "outputs": [],
   "source": [
    "model1.add(tf.keras.layers.Conv2D(filters=32, kernel_size=3, activation='relu', input_shape=[64, 64, 3]))"
   ]
  },
  {
   "cell_type": "markdown",
   "metadata": {
    "colab_type": "text",
    "id": "tf87FpvxmNOJ"
   },
   "source": [
    "### Step 2 - Pooling"
   ]
  },
  {
   "cell_type": "code",
   "execution_count": 6,
   "metadata": {
    "colab": {},
    "colab_type": "code",
    "id": "ncpqPl69mOac"
   },
   "outputs": [],
   "source": [
    "model1.add(tf.keras.layers.MaxPool2D(pool_size=2, strides=2))"
   ]
  },
  {
   "cell_type": "markdown",
   "metadata": {
    "colab_type": "text",
    "id": "tmiEuvTunKfk"
   },
   "source": [
    "### Step 3 - Flattening"
   ]
  },
  {
   "cell_type": "code",
   "execution_count": 7,
   "metadata": {
    "colab": {},
    "colab_type": "code",
    "id": "6AZeOGCvnNZn"
   },
   "outputs": [],
   "source": [
    "model1.add(tf.keras.layers.Flatten())"
   ]
  },
  {
   "cell_type": "markdown",
   "metadata": {
    "colab_type": "text",
    "id": "dAoSECOm203v"
   },
   "source": [
    "### Step 4 - Full Connection"
   ]
  },
  {
   "cell_type": "code",
   "execution_count": 8,
   "metadata": {
    "colab": {},
    "colab_type": "code",
    "id": "8GtmUlLd26Nq"
   },
   "outputs": [],
   "source": [
    "model1.add(tf.keras.layers.Dense(units=128, activation='relu'))"
   ]
  },
  {
   "cell_type": "markdown",
   "metadata": {
    "colab_type": "text",
    "id": "yTldFvbX28Na"
   },
   "source": [
    "### Step 5 - Output Layer"
   ]
  },
  {
   "cell_type": "code",
   "execution_count": 9,
   "metadata": {
    "colab": {},
    "colab_type": "code",
    "id": "1p_Zj1Mc3Ko_"
   },
   "outputs": [],
   "source": [
    "model1.add(tf.keras.layers.Dense(units=1, activation='sigmoid'))"
   ]
  },
  {
   "cell_type": "markdown",
   "metadata": {
    "colab_type": "text",
    "id": "D6XkI90snSDl"
   },
   "source": [
    "## Part 3 - Training the CNN"
   ]
  },
  {
   "cell_type": "markdown",
   "metadata": {
    "colab_type": "text",
    "id": "vfrFQACEnc6i"
   },
   "source": [
    "### Compiling the CNN"
   ]
  },
  {
   "cell_type": "code",
   "execution_count": 10,
   "metadata": {
    "colab": {},
    "colab_type": "code",
    "id": "NALksrNQpUlJ"
   },
   "outputs": [],
   "source": [
    "model1.compile(optimizer = 'adam', loss = 'binary_crossentropy', metrics = ['accuracy'])"
   ]
  },
  {
   "cell_type": "code",
   "execution_count": 11,
   "metadata": {},
   "outputs": [
    {
     "name": "stdout",
     "output_type": "stream",
     "text": [
      "Model: \"sequential\"\n",
      "_________________________________________________________________\n",
      "Layer (type)                 Output Shape              Param #   \n",
      "=================================================================\n",
      "conv2d (Conv2D)              (None, 62, 62, 32)        896       \n",
      "_________________________________________________________________\n",
      "max_pooling2d (MaxPooling2D) (None, 31, 31, 32)        0         \n",
      "_________________________________________________________________\n",
      "flatten (Flatten)            (None, 30752)             0         \n",
      "_________________________________________________________________\n",
      "dense (Dense)                (None, 128)               3936384   \n",
      "_________________________________________________________________\n",
      "dense_1 (Dense)              (None, 1)                 129       \n",
      "=================================================================\n",
      "Total params: 3,937,409\n",
      "Trainable params: 3,937,409\n",
      "Non-trainable params: 0\n",
      "_________________________________________________________________\n"
     ]
    }
   ],
   "source": [
    "model1.summary()"
   ]
  },
  {
   "cell_type": "markdown",
   "metadata": {
    "colab_type": "text",
    "id": "ehS-v3MIpX2h"
   },
   "source": [
    "### Training the CNN on the Training set and evaluating it on the Test set"
   ]
  },
  {
   "cell_type": "code",
   "execution_count": 12,
   "metadata": {
    "colab": {},
    "colab_type": "code",
    "id": "XUj1W4PJptta"
   },
   "outputs": [
    {
     "name": "stdout",
     "output_type": "stream",
     "text": [
      "Epoch 1/25\n",
      "163/163 [==============================] - 92s 563ms/step - loss: 0.6719 - accuracy: 0.7359 - val_loss: 0.4025 - val_accuracy: 0.8125\n",
      "Epoch 2/25\n",
      "163/163 [==============================] - 90s 551ms/step - loss: 0.2408 - accuracy: 0.8948 - val_loss: 0.8003 - val_accuracy: 0.6875\n",
      "Epoch 3/25\n",
      "163/163 [==============================] - 90s 550ms/step - loss: 0.1858 - accuracy: 0.9273 - val_loss: 0.4323 - val_accuracy: 0.8125\n",
      "Epoch 4/25\n",
      "163/163 [==============================] - 90s 551ms/step - loss: 0.1874 - accuracy: 0.9312 - val_loss: 1.3244 - val_accuracy: 0.6250\n",
      "Epoch 5/25\n",
      "163/163 [==============================] - 90s 551ms/step - loss: 0.1744 - accuracy: 0.9319 - val_loss: 0.8586 - val_accuracy: 0.6875\n",
      "Epoch 6/25\n",
      "163/163 [==============================] - 90s 549ms/step - loss: 0.1729 - accuracy: 0.9317 - val_loss: 1.0677 - val_accuracy: 0.6875\n",
      "Epoch 7/25\n",
      "163/163 [==============================] - 90s 554ms/step - loss: 0.1608 - accuracy: 0.9333 - val_loss: 0.4543 - val_accuracy: 0.8125\n",
      "Epoch 8/25\n",
      "163/163 [==============================] - 1116s 7s/step - loss: 0.1370 - accuracy: 0.9476 - val_loss: 0.6174 - val_accuracy: 0.6875\n",
      "Epoch 9/25\n",
      "163/163 [==============================] - 90s 554ms/step - loss: 0.1462 - accuracy: 0.9366 - val_loss: 0.5760 - val_accuracy: 0.6875\n",
      "Epoch 10/25\n",
      "163/163 [==============================] - 90s 550ms/step - loss: 0.1386 - accuracy: 0.9513 - val_loss: 0.6482 - val_accuracy: 0.6875\n",
      "Epoch 11/25\n",
      "163/163 [==============================] - 90s 551ms/step - loss: 0.1495 - accuracy: 0.9396 - val_loss: 0.2416 - val_accuracy: 0.9375\n",
      "Epoch 12/25\n",
      "163/163 [==============================] - 90s 553ms/step - loss: 0.1310 - accuracy: 0.9509 - val_loss: 0.5224 - val_accuracy: 0.6875\n",
      "Epoch 13/25\n",
      "163/163 [==============================] - 90s 554ms/step - loss: 0.1284 - accuracy: 0.9491 - val_loss: 0.2352 - val_accuracy: 0.8750\n",
      "Epoch 14/25\n",
      "163/163 [==============================] - 92s 563ms/step - loss: 0.1489 - accuracy: 0.9434 - val_loss: 0.2940 - val_accuracy: 0.8125\n",
      "Epoch 15/25\n",
      "163/163 [==============================] - 95s 584ms/step - loss: 0.1281 - accuracy: 0.9532 - val_loss: 0.4153 - val_accuracy: 0.7500\n",
      "Epoch 16/25\n",
      "163/163 [==============================] - 94s 576ms/step - loss: 0.1248 - accuracy: 0.9510 - val_loss: 0.5033 - val_accuracy: 0.6875\n",
      "Epoch 17/25\n",
      "163/163 [==============================] - 90s 552ms/step - loss: 0.1119 - accuracy: 0.9572 - val_loss: 0.3061 - val_accuracy: 0.8125\n",
      "Epoch 18/25\n",
      "163/163 [==============================] - 90s 553ms/step - loss: 0.1040 - accuracy: 0.9603 - val_loss: 0.3879 - val_accuracy: 0.7500\n",
      "Epoch 19/25\n",
      "163/163 [==============================] - 90s 554ms/step - loss: 0.1145 - accuracy: 0.9607 - val_loss: 0.3000 - val_accuracy: 0.8750\n",
      "Epoch 20/25\n",
      "163/163 [==============================] - 91s 557ms/step - loss: 0.1118 - accuracy: 0.9590 - val_loss: 0.4441 - val_accuracy: 0.8125\n",
      "Epoch 21/25\n",
      "163/163 [==============================] - 91s 557ms/step - loss: 0.1110 - accuracy: 0.9557 - val_loss: 0.2784 - val_accuracy: 0.8750\n",
      "Epoch 22/25\n",
      "163/163 [==============================] - 91s 558ms/step - loss: 0.1062 - accuracy: 0.9629 - val_loss: 0.4279 - val_accuracy: 0.8125\n",
      "Epoch 23/25\n",
      "163/163 [==============================] - 91s 556ms/step - loss: 0.1059 - accuracy: 0.9610 - val_loss: 0.1679 - val_accuracy: 1.0000\n",
      "Epoch 24/25\n",
      "163/163 [==============================] - 91s 555ms/step - loss: 0.1053 - accuracy: 0.9609 - val_loss: 0.1865 - val_accuracy: 0.9375\n",
      "Epoch 25/25\n",
      "163/163 [==============================] - 91s 556ms/step - loss: 0.0886 - accuracy: 0.9657 - val_loss: 0.1502 - val_accuracy: 1.0000\n"
     ]
    }
   ],
   "source": [
    "history = model1.fit(x = training_set, validation_data = val_set, epochs = 25)"
   ]
  },
  {
   "cell_type": "markdown",
   "metadata": {},
   "source": [
    "## Accuracy"
   ]
  },
  {
   "cell_type": "code",
   "execution_count": 13,
   "metadata": {},
   "outputs": [
    {
     "name": "stdout",
     "output_type": "stream",
     "text": [
      "163/163 [==============================] - 84s 514ms/step - loss: 0.0890 - accuracy: 0.9649\n",
      "20/20 [==============================] - 9s 434ms/step - loss: 0.4507 - accuracy: 0.8894\n",
      "train: 96.49, test: 88.94\n"
     ]
    }
   ],
   "source": [
    "train_loss, train_acc  = model1.evaluate(training_set)\n",
    "test_loss, test_acc = model1.evaluate(test_set)\n",
    "train_acc = train_acc*100\n",
    "test_acc = test_acc*100\n",
    "print('train: %.2f, test: %.2f' % (train_acc, test_acc))"
   ]
  },
  {
   "cell_type": "markdown",
   "metadata": {},
   "source": [
    "## Model Accuracy Graph"
   ]
  },
  {
   "cell_type": "code",
   "execution_count": 47,
   "metadata": {},
   "outputs": [
    {
     "data": {
      "image/png": "[encoded data removed]",
      "text/plain": [
       "<Figure size 432x288 with 1 Axes>"
      ]
     },
     "metadata": {
      "needs_background": "light"
     },
     "output_type": "display_data"
    }
   ],
   "source": [
    "import matplotlib.pyplot as plt\n",
    "plt.plot(history.history['accuracy'], label='train')\n",
    "plt.plot(history.history['val_accuracy'], label = 'validation')\n",
    "plt.xlabel('Epoch')\n",
    "plt.ylabel('Accuracy')\n",
    "plt.ylim([0, 1])\n",
    "plt.xlim([1,25])\n",
    "plt.title('Model Accuracy')\n",
    "plt.legend(loc='lower right')\n",
    "plt.savefig('model1_AccuracyVsValidationAccuracyGraph.jpg')"
   ]
  },
  {
   "cell_type": "markdown",
   "metadata": {},
   "source": [
    "## Model Loss Graph"
   ]
  },
  {
   "cell_type": "code",
   "execution_count": 48,
   "metadata": {},
   "outputs": [
    {
     "data": {
      "image/png": "[encoded data removed]",
      "text/plain": [
       "<Figure size 432x288 with 1 Axes>"
      ]
     },
     "metadata": {
      "needs_background": "light"
     },
     "output_type": "display_data"
    }
   ],
   "source": [
    "plt.plot(history.history['loss'], label='train')\n",
    "plt.plot(history.history['val_loss'], label = 'validation')\n",
    "plt.xlabel('Epoch')\n",
    "plt.ylabel('Loss')\n",
    "plt.ylim([-1, 1])\n",
    "plt.xlim([1,25])\n",
    "plt.title('Model Loss')\n",
    "plt.legend(loc='lower right')\n",
    "plt.savefig('model1_LossVsLossValidation.jpg')"
   ]
  },
  {
   "cell_type": "code",
   "execution_count": 46,
   "metadata": {},
   "outputs": [],
   "source": [
    "model1.save('cnnModel1.h5')"
   ]
  },
  {
   "cell_type": "code",
   "execution_count": null,
   "metadata": {},
   "outputs": [],
   "source": []
  }
 ],
 "metadata": {
  "colab": {
   "collapsed_sections": [],
   "name": "convolutional_neural_network.ipynb",
   "provenance": [],
   "toc_visible": true
  },
  "kernelspec": {
   "display_name": "Python 3",
   "language": "python",
   "name": "python3"
  },
  "language_info": {
   "codemirror_mode": {
    "name": "ipython",
    "version": 3
   },
   "file_extension": ".py",
   "mimetype": "text/x-python",
   "name": "python",
   "nbconvert_exporter": "python",
   "pygments_lexer": "ipython3",
   "version": "3.8.5"
  }
 },
 "nbformat": 4,
 "nbformat_minor": 1
}
