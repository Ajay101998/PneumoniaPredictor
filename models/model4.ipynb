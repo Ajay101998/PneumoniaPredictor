{
 "cells": [
  {
   "cell_type": "markdown",
   "metadata": {
    "colab_type": "text",
    "id": "3DR-eO17geWu"
   },
   "source": [
    "# Convolutional Neural Network"
   ]
  },
  {
   "cell_type": "markdown",
   "metadata": {
    "colab_type": "text",
    "id": "EMefrVPCg-60"
   },
   "source": [
    "### Importing the libraries"
   ]
  },
  {
   "cell_type": "code",
   "execution_count": 1,
   "metadata": {
    "colab": {},
    "colab_type": "code",
    "id": "sCV30xyVhFbE"
   },
   "outputs": [],
   "source": [
    "import tensorflow as tf\n",
    "from tensorflow.keras.preprocessing.image import ImageDataGenerator"
   ]
  },
  {
   "cell_type": "code",
   "execution_count": 2,
   "metadata": {
    "colab": {},
    "colab_type": "code",
    "id": "FIleuCAjoFD8"
   },
   "outputs": [
    {
     "data": {
      "text/plain": [
       "'2.4.1'"
      ]
     },
     "execution_count": 2,
     "metadata": {},
     "output_type": "execute_result"
    }
   ],
   "source": [
    "tf.__version__"
   ]
  },
  {
   "cell_type": "markdown",
   "metadata": {
    "colab_type": "text",
    "id": "oxQxCBWyoGPE"
   },
   "source": [
    "## Part 1 - Data Preprocessing"
   ]
  },
  {
   "cell_type": "markdown",
   "metadata": {
    "colab_type": "text",
    "id": "MvE-heJNo3GG"
   },
   "source": [
    "### Preprocessing the Training set"
   ]
  },
  {
   "cell_type": "code",
   "execution_count": 3,
   "metadata": {
    "colab": {},
    "colab_type": "code",
    "id": "0koUcJMJpEBD"
   },
   "outputs": [
    {
     "name": "stdout",
     "output_type": "stream",
     "text": [
      "Found 5216 images belonging to 2 classes.\n",
      "Found 624 images belonging to 2 classes.\n",
      "Found 16 images belonging to 2 classes.\n"
     ]
    }
   ],
   "source": [
    "train_datagen = ImageDataGenerator(rescale = 1./255,\n",
    "                                   shear_range = 0.2,\n",
    "                                   zoom_range = 0.2,\n",
    "                                   horizontal_flip = True)\n",
    "test_datagen = ImageDataGenerator(rescale = 1./255)\n",
    "val_datagen = ImageDataGenerator(rescale = 1./255)\n",
    "\n",
    "\n",
    "training_set = train_datagen.flow_from_directory('dataset/train',\n",
    "                                                 target_size = (64, 64),\n",
    "                                                 batch_size = 32,\n",
    "                                                 class_mode = 'binary')\n",
    "test_set = test_datagen.flow_from_directory('dataset/test',\n",
    "                                            target_size = (64, 64),\n",
    "                                            batch_size = 32,\n",
    "                                            class_mode = 'binary')\n",
    "val_set = val_datagen.flow_from_directory('dataset/val',\n",
    "                                                 target_size = (64, 64),\n",
    "                                                 batch_size = 32,\n",
    "                                                 class_mode = 'binary')"
   ]
  },
  {
   "cell_type": "markdown",
   "metadata": {
    "colab_type": "text",
    "id": "af8O4l90gk7B"
   },
   "source": [
    "## Part 2 - Building the CNN"
   ]
  },
  {
   "cell_type": "markdown",
   "metadata": {
    "colab_type": "text",
    "id": "ces1gXY2lmoX"
   },
   "source": [
    "### Initialising the CNN"
   ]
  },
  {
   "cell_type": "code",
   "execution_count": 4,
   "metadata": {
    "colab": {},
    "colab_type": "code",
    "id": "SAUt4UMPlhLS"
   },
   "outputs": [],
   "source": [
    "model4 = tf.keras.models.Sequential()"
   ]
  },
  {
   "cell_type": "markdown",
   "metadata": {
    "colab_type": "text",
    "id": "u5YJj_XMl5LF"
   },
   "source": [
    "### Step 1 - Convolution"
   ]
  },
  {
   "cell_type": "code",
   "execution_count": 5,
   "metadata": {
    "colab": {},
    "colab_type": "code",
    "id": "XPzPrMckl-hV"
   },
   "outputs": [],
   "source": [
    "model4.add(tf.keras.layers.Conv2D(filters=32, kernel_size=3, activation='relu', input_shape=[64, 64, 3]))"
   ]
  },
  {
   "cell_type": "markdown",
   "metadata": {
    "colab_type": "text",
    "id": "tf87FpvxmNOJ"
   },
   "source": [
    "### Step 2 - Pooling"
   ]
  },
  {
   "cell_type": "code",
   "execution_count": 6,
   "metadata": {
    "colab": {},
    "colab_type": "code",
    "id": "ncpqPl69mOac"
   },
   "outputs": [],
   "source": [
    "model4.add(tf.keras.layers.MaxPool2D(pool_size=2, strides=2))"
   ]
  },
  {
   "cell_type": "markdown",
   "metadata": {
    "colab_type": "text",
    "id": "xaTOgD8rm4mU"
   },
   "source": [
    "### Adding a second convolutional layer"
   ]
  },
  {
   "cell_type": "code",
   "execution_count": 7,
   "metadata": {
    "colab": {},
    "colab_type": "code",
    "id": "i_-FZjn_m8gk"
   },
   "outputs": [],
   "source": [
    "model4.add(tf.keras.layers.Conv2D(filters=64, kernel_size=3, activation='relu'))\n",
    "model4.add(tf.keras.layers.MaxPool2D(pool_size=2, strides=2))"
   ]
  },
  {
   "cell_type": "markdown",
   "metadata": {},
   "source": [
    "## Adding third convolution layer"
   ]
  },
  {
   "cell_type": "code",
   "execution_count": 8,
   "metadata": {},
   "outputs": [],
   "source": [
    "model4.add(tf.keras.layers.Conv2D(filters=128, kernel_size=3, activation='relu'))\n",
    "model4.add(tf.keras.layers.MaxPool2D(pool_size=2, strides=2))"
   ]
  },
  {
   "cell_type": "code",
   "execution_count": 9,
   "metadata": {},
   "outputs": [],
   "source": [
    "model4.add(tf.keras.layers.Conv2D(filters=265, kernel_size=3, activation='relu'))\n",
    "model4.add(tf.keras.layers.MaxPool2D(pool_size=2, strides=2))"
   ]
  },
  {
   "cell_type": "markdown",
   "metadata": {
    "colab_type": "text",
    "id": "tmiEuvTunKfk"
   },
   "source": [
    "### Step 3 - Flattening"
   ]
  },
  {
   "cell_type": "code",
   "execution_count": 10,
   "metadata": {
    "colab": {},
    "colab_type": "code",
    "id": "6AZeOGCvnNZn"
   },
   "outputs": [],
   "source": [
    "model4.add(tf.keras.layers.Flatten())"
   ]
  },
  {
   "cell_type": "markdown",
   "metadata": {
    "colab_type": "text",
    "id": "dAoSECOm203v"
   },
   "source": [
    "### Step 4 - Full Connection"
   ]
  },
  {
   "cell_type": "code",
   "execution_count": 11,
   "metadata": {
    "colab": {},
    "colab_type": "code",
    "id": "8GtmUlLd26Nq"
   },
   "outputs": [],
   "source": [
    "model4.add(tf.keras.layers.Dense(units=256, activation='relu'))\n",
    "model4.add(tf.keras.layers.Dropout(0.3))"
   ]
  },
  {
   "cell_type": "markdown",
   "metadata": {
    "colab_type": "text",
    "id": "yTldFvbX28Na"
   },
   "source": [
    "### Step 5 - Output Layer"
   ]
  },
  {
   "cell_type": "code",
   "execution_count": 12,
   "metadata": {
    "colab": {},
    "colab_type": "code",
    "id": "1p_Zj1Mc3Ko_"
   },
   "outputs": [],
   "source": [
    "model4.add(tf.keras.layers.Dense(units=1, activation='sigmoid'))"
   ]
  },
  {
   "cell_type": "markdown",
   "metadata": {
    "colab_type": "text",
    "id": "D6XkI90snSDl"
   },
   "source": [
    "## Part 3 - Training the CNN"
   ]
  },
  {
   "cell_type": "markdown",
   "metadata": {
    "colab_type": "text",
    "id": "vfrFQACEnc6i"
   },
   "source": [
    "### Compiling the CNN"
   ]
  },
  {
   "cell_type": "code",
   "execution_count": 13,
   "metadata": {
    "colab": {},
    "colab_type": "code",
    "id": "NALksrNQpUlJ"
   },
   "outputs": [],
   "source": [
    "model4.compile(optimizer = 'adam', loss = 'binary_crossentropy', metrics = ['accuracy'])"
   ]
  },
  {
   "cell_type": "code",
   "execution_count": 14,
   "metadata": {},
   "outputs": [
    {
     "name": "stdout",
     "output_type": "stream",
     "text": [
      "Model: \"sequential\"\n",
      "_________________________________________________________________\n",
      "Layer (type)                 Output Shape              Param #   \n",
      "=================================================================\n",
      "conv2d (Conv2D)              (None, 62, 62, 32)        896       \n",
      "_________________________________________________________________\n",
      "max_pooling2d (MaxPooling2D) (None, 31, 31, 32)        0         \n",
      "_________________________________________________________________\n",
      "conv2d_1 (Conv2D)            (None, 29, 29, 64)        18496     \n",
      "_________________________________________________________________\n",
      "max_pooling2d_1 (MaxPooling2 (None, 14, 14, 64)        0         \n",
      "_________________________________________________________________\n",
      "conv2d_2 (Conv2D)            (None, 12, 12, 128)       73856     \n",
      "_________________________________________________________________\n",
      "max_pooling2d_2 (MaxPooling2 (None, 6, 6, 128)         0         \n",
      "_________________________________________________________________\n",
      "conv2d_3 (Conv2D)            (None, 4, 4, 265)         305545    \n",
      "_________________________________________________________________\n",
      "max_pooling2d_3 (MaxPooling2 (None, 2, 2, 265)         0         \n",
      "_________________________________________________________________\n",
      "flatten (Flatten)            (None, 1060)              0         \n",
      "_________________________________________________________________\n",
      "dense (Dense)                (None, 256)               271616    \n",
      "_________________________________________________________________\n",
      "dropout (Dropout)            (None, 256)               0         \n",
      "_________________________________________________________________\n",
      "dense_1 (Dense)              (None, 1)                 257       \n",
      "=================================================================\n",
      "Total params: 670,666\n",
      "Trainable params: 670,666\n",
      "Non-trainable params: 0\n",
      "_________________________________________________________________\n"
     ]
    }
   ],
   "source": [
    "model4.summary()"
   ]
  },
  {
   "cell_type": "markdown",
   "metadata": {
    "colab_type": "text",
    "id": "ehS-v3MIpX2h"
   },
   "source": [
    "### Training the CNN on the Training set and evaluating it on the Test set"
   ]
  },
  {
   "cell_type": "code",
   "execution_count": 15,
   "metadata": {
    "colab": {},
    "colab_type": "code",
    "id": "XUj1W4PJptta"
   },
   "outputs": [
    {
     "name": "stdout",
     "output_type": "stream",
     "text": [
      "Epoch 1/25\n",
      "163/163 [==============================] - 102s 620ms/step - loss: 0.5865 - accuracy: 0.7452 - val_loss: 0.4512 - val_accuracy: 0.8750\n",
      "Epoch 2/25\n",
      "163/163 [==============================] - 98s 603ms/step - loss: 0.2963 - accuracy: 0.8711 - val_loss: 0.3609 - val_accuracy: 0.8125\n",
      "Epoch 3/25\n",
      "163/163 [==============================] - 99s 606ms/step - loss: 0.2054 - accuracy: 0.9131 - val_loss: 0.5086 - val_accuracy: 0.7500\n",
      "Epoch 4/25\n",
      "163/163 [==============================] - 99s 608ms/step - loss: 0.1674 - accuracy: 0.9326 - val_loss: 1.0465 - val_accuracy: 0.6250\n",
      "Epoch 5/25\n",
      "163/163 [==============================] - 99s 606ms/step - loss: 0.1454 - accuracy: 0.9459 - val_loss: 0.4809 - val_accuracy: 0.6875\n",
      "Epoch 6/25\n",
      "163/163 [==============================] - 98s 603ms/step - loss: 0.1476 - accuracy: 0.9454 - val_loss: 0.6698 - val_accuracy: 0.6250\n",
      "Epoch 7/25\n",
      "163/163 [==============================] - 935s 6s/step - loss: 0.1347 - accuracy: 0.9492 - val_loss: 0.6685 - val_accuracy: 0.6875\n",
      "Epoch 8/25\n",
      "163/163 [==============================] - 100s 614ms/step - loss: 0.1341 - accuracy: 0.9456 - val_loss: 0.3830 - val_accuracy: 0.8125\n",
      "Epoch 9/25\n",
      "163/163 [==============================] - 99s 606ms/step - loss: 0.1286 - accuracy: 0.9541 - val_loss: 1.3498 - val_accuracy: 0.5625\n",
      "Epoch 10/25\n",
      "163/163 [==============================] - 99s 607ms/step - loss: 0.1290 - accuracy: 0.9522 - val_loss: 0.4038 - val_accuracy: 0.7500\n",
      "Epoch 11/25\n",
      "163/163 [==============================] - 99s 608ms/step - loss: 0.1352 - accuracy: 0.9470 - val_loss: 0.7600 - val_accuracy: 0.6875\n",
      "Epoch 12/25\n",
      "163/163 [==============================] - 99s 608ms/step - loss: 0.1019 - accuracy: 0.9662 - val_loss: 0.4226 - val_accuracy: 0.8125\n",
      "Epoch 13/25\n",
      "163/163 [==============================] - 99s 608ms/step - loss: 0.1169 - accuracy: 0.9559 - val_loss: 0.7857 - val_accuracy: 0.6250\n",
      "Epoch 14/25\n",
      "163/163 [==============================] - 10968s 68s/step - loss: 0.1139 - accuracy: 0.9581 - val_loss: 1.0642 - val_accuracy: 0.5625\n",
      "Epoch 15/25\n",
      "163/163 [==============================] - 101s 620ms/step - loss: 0.1117 - accuracy: 0.9629 - val_loss: 0.3890 - val_accuracy: 0.8125\n",
      "Epoch 16/25\n",
      "163/163 [==============================] - 100s 611ms/step - loss: 0.0987 - accuracy: 0.9596 - val_loss: 0.7484 - val_accuracy: 0.6875\n",
      "Epoch 17/25\n",
      "163/163 [==============================] - 99s 607ms/step - loss: 0.1038 - accuracy: 0.9631 - val_loss: 0.3351 - val_accuracy: 0.8750\n",
      "Epoch 18/25\n",
      "163/163 [==============================] - 99s 607ms/step - loss: 0.1090 - accuracy: 0.9543 - val_loss: 0.4700 - val_accuracy: 0.7500\n",
      "Epoch 19/25\n",
      "163/163 [==============================] - 99s 603ms/step - loss: 0.1092 - accuracy: 0.9597 - val_loss: 0.5880 - val_accuracy: 0.7500\n",
      "Epoch 20/25\n",
      "163/163 [==============================] - 99s 606ms/step - loss: 0.1084 - accuracy: 0.9594 - val_loss: 0.3312 - val_accuracy: 0.8750\n",
      "Epoch 21/25\n",
      "163/163 [==============================] - 1661s 10s/step - loss: 0.0907 - accuracy: 0.9674 - val_loss: 1.1513 - val_accuracy: 0.5625\n",
      "Epoch 22/25\n",
      "163/163 [==============================] - 100s 612ms/step - loss: 0.1065 - accuracy: 0.9589 - val_loss: 0.8772 - val_accuracy: 0.6875\n",
      "Epoch 23/25\n",
      "163/163 [==============================] - 99s 606ms/step - loss: 0.0991 - accuracy: 0.9637 - val_loss: 0.3716 - val_accuracy: 0.7500\n",
      "Epoch 24/25\n",
      "163/163 [==============================] - 98s 604ms/step - loss: 0.0910 - accuracy: 0.9657 - val_loss: 0.3020 - val_accuracy: 0.9375\n",
      "Epoch 25/25\n",
      "163/163 [==============================] - 99s 607ms/step - loss: 0.0952 - accuracy: 0.9654 - val_loss: 0.6038 - val_accuracy: 0.8125\n"
     ]
    }
   ],
   "source": [
    "history = model4.fit(x = training_set, validation_data = val_set, epochs = 25)"
   ]
  },
  {
   "cell_type": "markdown",
   "metadata": {},
   "source": [
    "## Accuracy"
   ]
  },
  {
   "cell_type": "code",
   "execution_count": 16,
   "metadata": {},
   "outputs": [
    {
     "name": "stdout",
     "output_type": "stream",
     "text": [
      "163/163 [==============================] - 88s 537ms/step - loss: 0.0953 - accuracy: 0.9626\n",
      "20/20 [==============================] - 9s 466ms/step - loss: 0.3809 - accuracy: 0.8734\n",
      "train: 96.26, test: 87.34\n"
     ]
    }
   ],
   "source": [
    "train_loss, train_acc  = model4.evaluate(training_set)\n",
    "test_loss, test_acc = model4.evaluate(test_set)\n",
    "train_acc = train_acc*100\n",
    "test_acc = test_acc*100\n",
    "print('train: %.2f, test: %.2f' % (train_acc, test_acc))"
   ]
  },
  {
   "cell_type": "markdown",
   "metadata": {},
   "source": [
    "## Model Accuracy Graph"
   ]
  },
  {
   "cell_type": "code",
   "execution_count": 17,
   "metadata": {},
   "outputs": [
    {
     "data": {
      "image/png": "[encoded data removed]",
      "text/plain": [
       "<Figure size 432x288 with 1 Axes>"
      ]
     },
     "metadata": {
      "needs_background": "light"
     },
     "output_type": "display_data"
    }
   ],
   "source": [
    "import matplotlib.pyplot as plt\n",
    "plt.plot(history.history['accuracy'], label='train')\n",
    "plt.plot(history.history['val_accuracy'], label = 'validation')\n",
    "plt.xlabel('Epoch')\n",
    "plt.ylabel('Accuracy')\n",
    "plt.ylim([0, 1])\n",
    "plt.xlim([1,25])\n",
    "plt.title('Model Accuracy')\n",
    "plt.legend(loc='lower right')\n",
    "plt.savefig('model4_AccuracyVsValidationAccuracy.jpg')"
   ]
  },
  {
   "cell_type": "markdown",
   "metadata": {},
   "source": [
    "## Model Loss Graph"
   ]
  },
  {
   "cell_type": "code",
   "execution_count": 18,
   "metadata": {},
   "outputs": [
    {
     "data": {
      "image/png": "[encoded data removed]",
      "text/plain": [
       "<Figure size 432x288 with 1 Axes>"
      ]
     },
     "metadata": {
      "needs_background": "light"
     },
     "output_type": "display_data"
    }
   ],
   "source": [
    "plt.plot(history.history['loss'], label='train')\n",
    "plt.plot(history.history['val_loss'], label = 'validation')\n",
    "plt.xlabel('Epoch')\n",
    "plt.ylabel('Loss')\n",
    "plt.ylim([-1, 1])\n",
    "plt.xlim([1,25])\n",
    "plt.title('Model Loss')\n",
    "plt.legend(loc='lower right')\n",
    "plt.savefig('model4_LossVsValidationLoss.jpg')"
   ]
  },
  {
   "cell_type": "code",
   "execution_count": 19,
   "metadata": {},
   "outputs": [],
   "source": [
    "model4.save('cnnModel4.h5')"
   ]
  }
 ],
 "metadata": {
  "colab": {
   "collapsed_sections": [],
   "name": "convolutional_neural_network.ipynb",
   "provenance": [],
   "toc_visible": true
  },
  "kernelspec": {
   "display_name": "Python 3",
   "language": "python",
   "name": "python3"
  },
  "language_info": {
   "codemirror_mode": {
    "name": "ipython",
    "version": 3
   },
   "file_extension": ".py",
   "mimetype": "text/x-python",
   "name": "python",
   "nbconvert_exporter": "python",
   "pygments_lexer": "ipython3",
   "version": "3.8.5"
  }
 },
 "nbformat": 4,
 "nbformat_minor": 1
}
