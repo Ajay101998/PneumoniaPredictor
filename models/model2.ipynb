{
 "cells": [
  {
   "cell_type": "markdown",
   "metadata": {
    "colab_type": "text",
    "id": "3DR-eO17geWu"
   },
   "source": [
    "# Convolutional Neural Network"
   ]
  },
  {
   "cell_type": "markdown",
   "metadata": {
    "colab_type": "text",
    "id": "EMefrVPCg-60"
   },
   "source": [
    "### Importing the libraries"
   ]
  },
  {
   "cell_type": "code",
   "execution_count": 1,
   "metadata": {
    "colab": {},
    "colab_type": "code",
    "id": "sCV30xyVhFbE"
   },
   "outputs": [],
   "source": [
    "import tensorflow as tf\n",
    "from tensorflow.keras.preprocessing.image import ImageDataGenerator"
   ]
  },
  {
   "cell_type": "code",
   "execution_count": 2,
   "metadata": {
    "colab": {},
    "colab_type": "code",
    "id": "FIleuCAjoFD8"
   },
   "outputs": [
    {
     "data": {
      "text/plain": [
       "'2.4.1'"
      ]
     },
     "execution_count": 2,
     "metadata": {},
     "output_type": "execute_result"
    }
   ],
   "source": [
    "tf.__version__"
   ]
  },
  {
   "cell_type": "markdown",
   "metadata": {
    "colab_type": "text",
    "id": "oxQxCBWyoGPE"
   },
   "source": [
    "## Part 1 - Data Preprocessing"
   ]
  },
  {
   "cell_type": "code",
   "execution_count": 3,
   "metadata": {
    "colab": {},
    "colab_type": "code",
    "id": "0koUcJMJpEBD"
   },
   "outputs": [
    {
     "name": "stdout",
     "output_type": "stream",
     "text": [
      "Found 5216 images belonging to 2 classes.\n",
      "Found 624 images belonging to 2 classes.\n",
      "Found 16 images belonging to 2 classes.\n"
     ]
    }
   ],
   "source": [
    "train_datagen = ImageDataGenerator(rescale = 1./255,\n",
    "                                   shear_range = 0.2,\n",
    "                                   zoom_range = 0.2,\n",
    "                                   horizontal_flip = True)\n",
    "\n",
    "test_datagen = ImageDataGenerator(rescale = 1./255)\n",
    "val_datagen = ImageDataGenerator(rescale = 1./255)\n",
    "\n",
    "training_set = train_datagen.flow_from_directory('dataset/train',\n",
    "                                                 target_size = (64, 64),\n",
    "                                                 batch_size = 32,\n",
    "                                                 class_mode = 'binary')\n",
    "\n",
    "test_set = test_datagen.flow_from_directory('dataset/test',\n",
    "                                            target_size = (64, 64),\n",
    "                                            batch_size = 32,\n",
    "                                            class_mode = 'binary')\n",
    "\n",
    "val_set = val_datagen.flow_from_directory('dataset/val',\n",
    "                                                 target_size = (64, 64),\n",
    "                                                 batch_size = 32,\n",
    "                                                 class_mode = 'binary')"
   ]
  },
  {
   "cell_type": "markdown",
   "metadata": {
    "colab_type": "text",
    "id": "af8O4l90gk7B"
   },
   "source": [
    "## Part 2 - Building the CNN"
   ]
  },
  {
   "cell_type": "markdown",
   "metadata": {
    "colab_type": "text",
    "id": "ces1gXY2lmoX"
   },
   "source": [
    "### Initialising the CNN"
   ]
  },
  {
   "cell_type": "code",
   "execution_count": 4,
   "metadata": {
    "colab": {},
    "colab_type": "code",
    "id": "SAUt4UMPlhLS"
   },
   "outputs": [],
   "source": [
    "model2 = tf.keras.models.Sequential()"
   ]
  },
  {
   "cell_type": "markdown",
   "metadata": {
    "colab_type": "text",
    "id": "u5YJj_XMl5LF"
   },
   "source": [
    "### Step 1 - Convolution"
   ]
  },
  {
   "cell_type": "code",
   "execution_count": 5,
   "metadata": {
    "colab": {},
    "colab_type": "code",
    "id": "XPzPrMckl-hV"
   },
   "outputs": [],
   "source": [
    "model2.add(tf.keras.layers.Conv2D(filters=32, kernel_size=3, activation='relu', input_shape=[64, 64, 3]))"
   ]
  },
  {
   "cell_type": "markdown",
   "metadata": {
    "colab_type": "text",
    "id": "tf87FpvxmNOJ"
   },
   "source": [
    "### Step 2 - Pooling"
   ]
  },
  {
   "cell_type": "code",
   "execution_count": 6,
   "metadata": {
    "colab": {},
    "colab_type": "code",
    "id": "ncpqPl69mOac"
   },
   "outputs": [],
   "source": [
    "model2.add(tf.keras.layers.MaxPool2D(pool_size=2, strides=2))"
   ]
  },
  {
   "cell_type": "markdown",
   "metadata": {
    "colab_type": "text",
    "id": "xaTOgD8rm4mU"
   },
   "source": [
    "### Adding a second convolutional layer"
   ]
  },
  {
   "cell_type": "code",
   "execution_count": 7,
   "metadata": {
    "colab": {},
    "colab_type": "code",
    "id": "i_-FZjn_m8gk"
   },
   "outputs": [],
   "source": [
    "model2.add(tf.keras.layers.Conv2D(filters=64, kernel_size=3, activation='relu'))\n",
    "model2.add(tf.keras.layers.MaxPool2D(pool_size=2, strides=2))"
   ]
  },
  {
   "cell_type": "markdown",
   "metadata": {
    "colab_type": "text",
    "id": "tmiEuvTunKfk"
   },
   "source": [
    "### Step 3 - Flattening"
   ]
  },
  {
   "cell_type": "code",
   "execution_count": 8,
   "metadata": {
    "colab": {},
    "colab_type": "code",
    "id": "6AZeOGCvnNZn"
   },
   "outputs": [],
   "source": [
    "model2.add(tf.keras.layers.Flatten())"
   ]
  },
  {
   "cell_type": "markdown",
   "metadata": {
    "colab_type": "text",
    "id": "dAoSECOm203v"
   },
   "source": [
    "### Step 4 - Full Connection"
   ]
  },
  {
   "cell_type": "code",
   "execution_count": 9,
   "metadata": {
    "colab": {},
    "colab_type": "code",
    "id": "8GtmUlLd26Nq"
   },
   "outputs": [],
   "source": [
    "model2.add(tf.keras.layers.Dense(units=256, activation='relu'))"
   ]
  },
  {
   "cell_type": "markdown",
   "metadata": {
    "colab_type": "text",
    "id": "yTldFvbX28Na"
   },
   "source": [
    "### Step 5 - Output Layer"
   ]
  },
  {
   "cell_type": "code",
   "execution_count": 10,
   "metadata": {
    "colab": {},
    "colab_type": "code",
    "id": "1p_Zj1Mc3Ko_"
   },
   "outputs": [],
   "source": [
    "model2.add(tf.keras.layers.Dense(units=1, activation='sigmoid'))"
   ]
  },
  {
   "cell_type": "markdown",
   "metadata": {
    "colab_type": "text",
    "id": "D6XkI90snSDl"
   },
   "source": [
    "## Part 3 - Training the CNN"
   ]
  },
  {
   "cell_type": "markdown",
   "metadata": {
    "colab_type": "text",
    "id": "vfrFQACEnc6i"
   },
   "source": [
    "### Compiling the CNN"
   ]
  },
  {
   "cell_type": "code",
   "execution_count": 11,
   "metadata": {
    "colab": {},
    "colab_type": "code",
    "id": "NALksrNQpUlJ"
   },
   "outputs": [],
   "source": [
    "model2.compile(optimizer = 'adam', loss = 'binary_crossentropy', metrics = ['accuracy'])"
   ]
  },
  {
   "cell_type": "markdown",
   "metadata": {
    "colab_type": "text",
    "id": "ehS-v3MIpX2h"
   },
   "source": [
    "### Training the CNN on the Training set and evaluating it on the Test set"
   ]
  },
  {
   "cell_type": "code",
   "execution_count": 12,
   "metadata": {
    "colab": {},
    "colab_type": "code",
    "id": "XUj1W4PJptta"
   },
   "outputs": [
    {
     "name": "stdout",
     "output_type": "stream",
     "text": [
      "Epoch 1/25\n",
      "163/163 [==============================] - 101s 615ms/step - loss: 0.4994 - accuracy: 0.7706 - val_loss: 0.5444 - val_accuracy: 0.7500\n",
      "Epoch 2/25\n",
      "163/163 [==============================] - 98s 598ms/step - loss: 0.2292 - accuracy: 0.9070 - val_loss: 0.5554 - val_accuracy: 0.7500\n",
      "Epoch 3/25\n",
      "163/163 [==============================] - 102s 627ms/step - loss: 0.2086 - accuracy: 0.9145 - val_loss: 0.8326 - val_accuracy: 0.6250\n",
      "Epoch 4/25\n",
      "163/163 [==============================] - 98s 601ms/step - loss: 0.1767 - accuracy: 0.9295 - val_loss: 0.4409 - val_accuracy: 0.7500\n",
      "Epoch 5/25\n",
      "163/163 [==============================] - 100s 613ms/step - loss: 0.1802 - accuracy: 0.9303 - val_loss: 0.3453 - val_accuracy: 0.8125\n",
      "Epoch 6/25\n",
      "163/163 [==============================] - 97s 597ms/step - loss: 0.1846 - accuracy: 0.9231 - val_loss: 0.9544 - val_accuracy: 0.6250\n",
      "Epoch 7/25\n",
      "163/163 [==============================] - 98s 598ms/step - loss: 0.1588 - accuracy: 0.9340 - val_loss: 0.3161 - val_accuracy: 0.8750\n",
      "Epoch 8/25\n",
      "163/163 [==============================] - 97s 596ms/step - loss: 0.1377 - accuracy: 0.9417 - val_loss: 0.5412 - val_accuracy: 0.6875\n",
      "Epoch 9/25\n",
      "163/163 [==============================] - 98s 601ms/step - loss: 0.1355 - accuracy: 0.9499 - val_loss: 0.3992 - val_accuracy: 0.7500\n",
      "Epoch 10/25\n",
      "163/163 [==============================] - 98s 602ms/step - loss: 0.1333 - accuracy: 0.9492 - val_loss: 0.6923 - val_accuracy: 0.6875\n",
      "Epoch 11/25\n",
      "163/163 [==============================] - 102s 626ms/step - loss: 0.1345 - accuracy: 0.9498 - val_loss: 0.5756 - val_accuracy: 0.7500\n",
      "Epoch 12/25\n",
      "163/163 [==============================] - 103s 631ms/step - loss: 0.1381 - accuracy: 0.9520 - val_loss: 0.3126 - val_accuracy: 0.7500\n",
      "Epoch 13/25\n",
      "163/163 [==============================] - 101s 621ms/step - loss: 0.1176 - accuracy: 0.9566 - val_loss: 0.7073 - val_accuracy: 0.6250\n",
      "Epoch 14/25\n",
      "163/163 [==============================] - 102s 628ms/step - loss: 0.1275 - accuracy: 0.9528 - val_loss: 0.6929 - val_accuracy: 0.6875\n",
      "Epoch 15/25\n",
      "163/163 [==============================] - 99s 606ms/step - loss: 0.1028 - accuracy: 0.9608 - val_loss: 0.4680 - val_accuracy: 0.6875\n",
      "Epoch 16/25\n",
      "163/163 [==============================] - 100s 610ms/step - loss: 0.1182 - accuracy: 0.9555 - val_loss: 0.2985 - val_accuracy: 0.8750\n",
      "Epoch 17/25\n",
      "163/163 [==============================] - 101s 618ms/step - loss: 0.1061 - accuracy: 0.9594 - val_loss: 0.4477 - val_accuracy: 0.8125\n",
      "Epoch 18/25\n",
      "163/163 [==============================] - 102s 624ms/step - loss: 0.1025 - accuracy: 0.9610 - val_loss: 0.3652 - val_accuracy: 0.8125\n",
      "Epoch 19/25\n",
      "163/163 [==============================] - 98s 602ms/step - loss: 0.0994 - accuracy: 0.9633 - val_loss: 0.4237 - val_accuracy: 0.7500\n",
      "Epoch 20/25\n",
      "163/163 [==============================] - 98s 599ms/step - loss: 0.1028 - accuracy: 0.9562 - val_loss: 0.4283 - val_accuracy: 0.8125\n",
      "Epoch 21/25\n",
      "163/163 [==============================] - 96s 590ms/step - loss: 0.0832 - accuracy: 0.9698 - val_loss: 0.5424 - val_accuracy: 0.6250\n",
      "Epoch 22/25\n",
      "163/163 [==============================] - 98s 601ms/step - loss: 0.0972 - accuracy: 0.9650 - val_loss: 0.4345 - val_accuracy: 0.8125\n",
      "Epoch 23/25\n",
      "163/163 [==============================] - 96s 591ms/step - loss: 0.0914 - accuracy: 0.9666 - val_loss: 0.3425 - val_accuracy: 0.8125\n",
      "Epoch 24/25\n",
      "163/163 [==============================] - 97s 593ms/step - loss: 0.0806 - accuracy: 0.9696 - val_loss: 0.3656 - val_accuracy: 0.8125\n",
      "Epoch 25/25\n",
      "163/163 [==============================] - 96s 587ms/step - loss: 0.0816 - accuracy: 0.9700 - val_loss: 0.4330 - val_accuracy: 0.8125\n"
     ]
    }
   ],
   "source": [
    "history = model2.fit(x = training_set, validation_data = val_set, epochs = 25)"
   ]
  },
  {
   "cell_type": "code",
   "execution_count": 13,
   "metadata": {},
   "outputs": [
    {
     "name": "stdout",
     "output_type": "stream",
     "text": [
      "Model: \"sequential\"\n",
      "_________________________________________________________________\n",
      "Layer (type)                 Output Shape              Param #   \n",
      "=================================================================\n",
      "conv2d (Conv2D)              (None, 62, 62, 32)        896       \n",
      "_________________________________________________________________\n",
      "max_pooling2d (MaxPooling2D) (None, 31, 31, 32)        0         \n",
      "_________________________________________________________________\n",
      "conv2d_1 (Conv2D)            (None, 29, 29, 64)        18496     \n",
      "_________________________________________________________________\n",
      "max_pooling2d_1 (MaxPooling2 (None, 14, 14, 64)        0         \n",
      "_________________________________________________________________\n",
      "flatten (Flatten)            (None, 12544)             0         \n",
      "_________________________________________________________________\n",
      "dense (Dense)                (None, 256)               3211520   \n",
      "_________________________________________________________________\n",
      "dense_1 (Dense)              (None, 1)                 257       \n",
      "=================================================================\n",
      "Total params: 3,231,169\n",
      "Trainable params: 3,231,169\n",
      "Non-trainable params: 0\n",
      "_________________________________________________________________\n"
     ]
    }
   ],
   "source": [
    "model2.summary()"
   ]
  },
  {
   "cell_type": "markdown",
   "metadata": {},
   "source": [
    "## Accuracy"
   ]
  },
  {
   "cell_type": "code",
   "execution_count": 14,
   "metadata": {},
   "outputs": [
    {
     "name": "stdout",
     "output_type": "stream",
     "text": [
      "163/163 [==============================] - 88s 538ms/step - loss: 0.0770 - accuracy: 0.9705\n",
      "20/20 [==============================] - 9s 450ms/step - loss: 0.3743 - accuracy: 0.8990\n",
      "train: 97.05, test: 89.90\n"
     ]
    }
   ],
   "source": [
    "train_loss, train_acc  = model2.evaluate(training_set)\n",
    "test_loss , test_acc = model2.evaluate(test_set)\n",
    "train_acc = train_acc*100\n",
    "test_acc = test_acc*100\n",
    "print('train: %.2f, test: %.2f' % (train_acc, test_acc))"
   ]
  },
  {
   "cell_type": "markdown",
   "metadata": {},
   "source": [
    "## Model Accuracy Graph"
   ]
  },
  {
   "cell_type": "code",
   "execution_count": 15,
   "metadata": {},
   "outputs": [
    {
     "data": {
      "image/png": "[encoded data removed]",
      "text/plain": [
       "<Figure size 432x288 with 1 Axes>"
      ]
     },
     "metadata": {
      "needs_background": "light"
     },
     "output_type": "display_data"
    }
   ],
   "source": [
    "import matplotlib.pyplot as plt\n",
    "plt.plot(history.history['accuracy'], label='train')\n",
    "plt.plot(history.history['val_accuracy'], label = 'validation')\n",
    "plt.xlabel('Epoch')\n",
    "plt.ylabel('Accuracy')\n",
    "plt.ylim([0, 1])\n",
    "plt.xlim([1,25])\n",
    "plt.title('Model Accuracy')\n",
    "plt.legend(loc='lower right')\n",
    "plt.savefig('model2_AccuracyVsValidationAccuracy.jpg')"
   ]
  },
  {
   "cell_type": "markdown",
   "metadata": {},
   "source": [
    "## Model Loss Graph"
   ]
  },
  {
   "cell_type": "code",
   "execution_count": 16,
   "metadata": {},
   "outputs": [
    {
     "data": {
      "image/png": "[encoded data removed]",
      "text/plain": [
       "<Figure size 432x288 with 1 Axes>"
      ]
     },
     "metadata": {
      "needs_background": "light"
     },
     "output_type": "display_data"
    }
   ],
   "source": [
    "plt.plot(history.history['loss'], label='train')\n",
    "plt.plot(history.history['val_loss'], label = 'validation')\n",
    "plt.xlabel('Epoch')\n",
    "plt.ylabel('Loss')\n",
    "plt.ylim([-1, 1])\n",
    "plt.xlim([1,25])\n",
    "plt.title('Model Loss')\n",
    "plt.legend(loc='lower right')\n",
    "plt.savefig('model2_LossVsValidationLoss.jpg')"
   ]
  },
  {
   "cell_type": "code",
   "execution_count": 17,
   "metadata": {},
   "outputs": [],
   "source": [
    "model2.save('cnnModel2.h5')"
   ]
  },
  {
   "cell_type": "code",
   "execution_count": null,
   "metadata": {},
   "outputs": [],
   "source": []
  }
 ],
 "metadata": {
  "colab": {
   "collapsed_sections": [],
   "name": "convolutional_neural_network.ipynb",
   "provenance": [],
   "toc_visible": true
  },
  "kernelspec": {
   "display_name": "Python 3",
   "language": "python",
   "name": "python3"
  },
  "language_info": {
   "codemirror_mode": {
    "name": "ipython",
    "version": 3
   },
   "file_extension": ".py",
   "mimetype": "text/x-python",
   "name": "python",
   "nbconvert_exporter": "python",
   "pygments_lexer": "ipython3",
   "version": "3.8.5"
  }
 },
 "nbformat": 4,
 "nbformat_minor": 1
}
